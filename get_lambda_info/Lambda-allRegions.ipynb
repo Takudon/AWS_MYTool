{
 "cells": [
  {
   "cell_type": "code",
   "execution_count": null,
   "metadata": {},
   "outputs": [],
   "source": [
    "import pandas as pd\n",
    "import numpy as np\n",
    "import glob\n",
    "import json\n",
    "import pprint"
   ]
  },
  {
   "cell_type": "code",
   "execution_count": null,
   "metadata": {},
   "outputs": [],
   "source": [
    "filenames = glob.glob(\"./json/*\")"
   ]
  },
  {
   "cell_type": "code",
   "execution_count": null,
   "metadata": {},
   "outputs": [],
   "source": [
    "def check_env(function_name):\n",
    "    if \"stg\" in function_name:\n",
    "        return \"stg\"\n",
    "    elif \"prod\" in function_name:\n",
    "        return \"prod\"\n",
    "    elif \"dev\" in function_name:\n",
    "        return \"dev\"\n",
    "    else:\n",
    "        return \"F\""
   ]
  },
  {
   "cell_type": "code",
   "execution_count": null,
   "metadata": {},
   "outputs": [],
   "source": [
    "func_list = []\n",
    "for fname in filenames:\n",
    "    print(fname, \"############\")\n",
    "    with open(fname, encoding=\"utf_8_sig\") as f:\n",
    "        data = json.load(f)[\"Functions\"]\n",
    "        for d in data:\n",
    "            region = d[\"FunctionArn\"].split(\":\")[3]\n",
    "            env = check_env(d[\"FunctionName\"])\n",
    "            func_list.append([region, env, d[\"FunctionName\"], d[\"Runtime\"], d[\"LastModified\"][0:10]])"
   ]
  },
  {
   "cell_type": "code",
   "execution_count": null,
   "metadata": {},
   "outputs": [],
   "source": [
    "columns = [\"Region\", \"Env\", \"Name\", \"Runtime\", \"LastModified\"]\n",
    "df = pd.DataFrame(func_list, columns=columns)"
   ]
  },
  {
   "cell_type": "code",
   "execution_count": null,
   "metadata": {},
   "outputs": [],
   "source": [
    "df.head()"
   ]
  },
  {
   "cell_type": "code",
   "execution_count": null,
   "metadata": {},
   "outputs": [],
   "source": []
  }
 ],
 "metadata": {
  "kernelspec": {
   "display_name": "Python 3",
   "language": "python",
   "name": "python3"
  },
  "language_info": {
   "codemirror_mode": {
    "name": "ipython",
    "version": 3
   },
   "file_extension": ".py",
   "mimetype": "text/x-python",
   "name": "python",
   "nbconvert_exporter": "python",
   "pygments_lexer": "ipython3",
   "version": "3.7.4"
  }
 },
 "nbformat": 4,
 "nbformat_minor": 2
}
